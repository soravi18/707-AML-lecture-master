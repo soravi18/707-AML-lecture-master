{
 "cells": [
  {
   "cell_type": "markdown",
   "metadata": {},
   "source": [
    "# **Manual Naive Bayes**\n",
    "\n",
    "The following illustrates how to solve the exercise in the naive bayes lecture materials by hand.\n",
    "\n",
    "### Data"
   ]
  },
  {
   "cell_type": "code",
   "execution_count": 1,
   "metadata": {},
   "outputs": [],
   "source": [
    "import pandas as pd\n",
    "\n",
    "# Data\n",
    "data = {\n",
    "    'Example': [1, 2, 3, 4, 5, 6, 7],\n",
    "    'Positive Mammogram': ['Yes', 'Yes', 'No', 'Yes', 'Yes', 'No', 'No'],\n",
    "    'Family History': ['Yes', 'Yes', 'Yes', 'No', 'No', 'No', 'No'],\n",
    "    'Alcohol': ['Yes', 'No', 'Yes', 'No', 'Yes', 'Yes', 'No'],\n",
    "    'Cancer': ['Yes', 'Yes', 'Yes', 'No', 'No', 'No', 'No']\n",
    "}\n",
    "\n",
    "# Creating DataFrame\n",
    "df = pd.DataFrame(data)"
   ]
  },
  {
   "cell_type": "markdown",
   "metadata": {},
   "source": [
    "To predict whether someone with a positive mammogram, a family history of cancer, and who uses alcohol has cancer under the Naive Bayes assumption, we'll follow these steps:\n",
    "\n",
    "### Step 1: Calculate Prior Probabilities\n",
    "The prior probability is the overall probability of having cancer (or not) in the dataset, regardless of other features.\n",
    "\n",
    "- $P(Cancer = Yes)$\n",
    "- $P(Cancer = No)$\n",
    "\n",
    "### Step 2: Calculate Conditional Probabilities\n",
    "We need to calculate the probability of the features given each cancer outcome. Under the Naive Bayes assumption, these probabilities are considered independent.\n",
    "\n",
    "- $P(Positive\\ Mammogram = Yes | Cancer = Yes)$\n",
    "- $P(Family\\ History = Yes | Cancer = Yes)$\n",
    "- $P(Alcohol = Yes | Cancer = Yes)$\n",
    "- $P(Positive\\ Mammogram = Yes | Cancer = No)$\n",
    "- $P(Family\\ History = Yes | Cancer = No)$\n",
    "- $P(Alcohol = Yes | Cancer = No)$\n",
    "\n",
    "### Step 3: Multiply to Find the More Likely Outcome\n",
    "We calculate the likelihood of having cancer and not having cancer given the conditions, and then compare to predict the more likely outcome.\n",
    "\n",
    "- Likelihood of having cancer: $P(Cancer = Yes) \\times P(Positive\\ Mammogram = Yes | Cancer = Yes) \\times P(Family\\ History = Yes | Cancer = Yes) \\times P(Alcohol = Yes | Cancer = Yes)$\n",
    "- Likelihood of not having cancer: $P(Cancer = No) \\times P(Positive\\ Mammogram = Yes | Cancer = No) \\times P(Family\\ History = Yes | Cancer = No) \\times P(Alcohol = Yes | Cancer = No)$\n",
    "\n",
    "### Manual Calculations:\n"
   ]
  },
  {
   "cell_type": "code",
   "execution_count": 3,
   "metadata": {},
   "outputs": [
    {
     "name": "stdout",
     "output_type": "stream",
     "text": [
      "Yes\n"
     ]
    }
   ],
   "source": [
    "\n",
    "# Prior probabilities\n",
    "P_Cancer_Yes = len(df[df['Cancer'] == 'Yes']) / len(df)\n",
    "P_Cancer_No = len(df[df['Cancer'] == 'No']) / len(df)\n",
    "\n",
    "# Conditional probabilities\n",
    "P_PosMammo_Yes_Cancer_Yes = len(df[(df['Positive Mammogram'] == 'Yes') & (df['Cancer'] == 'Yes')]) / len(df[df['Cancer'] == 'Yes'])\n",
    "P_FamilyHist_Yes_Cancer_Yes = len(df[(df['Family History'] == 'Yes') & (df['Cancer'] == 'Yes')]) / len(df[df['Cancer'] == 'Yes'])\n",
    "P_Alcohol_Yes_Cancer_Yes = len(df[(df['Alcohol'] == 'Yes') & (df['Cancer'] == 'Yes')]) / len(df[df['Cancer'] == 'Yes'])\n",
    "\n",
    "P_PosMammo_Yes_Cancer_No = len(df[(df['Positive Mammogram'] == 'Yes') & (df['Cancer'] == 'No')]) / len(df[df['Cancer'] == 'No'])\n",
    "P_FamilyHist_Yes_Cancer_No = len(df[(df['Family History'] == 'Yes') & (df['Cancer'] == 'No')]) / len(df[df['Cancer'] == 'No'])\n",
    "P_Alcohol_Yes_Cancer_No = len(df[(df['Alcohol'] == 'Yes') & (df['Cancer'] == 'No')]) / len(df[df['Cancer'] == 'No'])\n",
    "\n",
    "# Multiply for the more likely outcome\n",
    "likelihood_cancer_yes = P_Cancer_Yes * P_PosMammo_Yes_Cancer_Yes * P_FamilyHist_Yes_Cancer_Yes * P_Alcohol_Yes_Cancer_Yes\n",
    "likelihood_cancer_no = P_Cancer_No * P_PosMammo_Yes_Cancer_No * P_FamilyHist_Yes_Cancer_No * P_Alcohol_Yes_Cancer_No\n",
    "\n",
    "# Prediction\n",
    "prediction = 'Yes' if likelihood_cancer_yes > likelihood_cancer_no else 'No'\n",
    "\n",
    "print(prediction)"
   ]
  }
 ],
 "metadata": {
  "kernelspec": {
   "display_name": ".venv",
   "language": "python",
   "name": "python3"
  },
  "language_info": {
   "codemirror_mode": {
    "name": "ipython",
    "version": 3
   },
   "file_extension": ".py",
   "mimetype": "text/x-python",
   "name": "python",
   "nbconvert_exporter": "python",
   "pygments_lexer": "ipython3",
   "version": "3.10.11"
  }
 },
 "nbformat": 4,
 "nbformat_minor": 2
}
