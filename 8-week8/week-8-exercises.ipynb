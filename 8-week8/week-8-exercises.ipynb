{
 "cells": [
  {
   "cell_type": "markdown",
   "metadata": {},
   "source": [
    "## Exercise 1"
   ]
  },
  {
   "cell_type": "code",
   "execution_count": null,
   "metadata": {},
   "outputs": [],
   "source": [
    "from sklearn.datasets import fetch_openml\n",
    "from sklearn.decomposition import PCA\n",
    "from sklearn.neighbors import KNeighborsClassifier\n",
    "from sklearn.model_selection import train_test_split\n",
    "from sklearn.metrics import accuracy_score\n",
    "import matplotlib.pyplot as plt\n",
    "import numpy as np\n",
    "\n",
    "# Step 1: Load MNIST data\n",
    "mnist = fetch_openml(\"mnist_784\", version=1)\n",
    "X, y = mnist[\"data\"].values, mnist[\"target\"].astype(int).values\n",
    "\n",
    "# Sample the dataset to speed up computation (Optional)\n",
    "X, y = X[:7000], y[:7000]\n",
    "\n",
    "# Split the dataset\n",
    "X_mnist_train, X_mnist_test, y_mnist_train, y_mnist_test = train_test_split(X, y, test_size=0.2, random_state=42)\n",
    "\n",
    "# Step 2: Visualize using PCA (2 components)\n",
    "# Reduce the data with PCA\n",
    "\n",
    "# You need to populate the following variable\n",
    "X__mnist_reduced = None"
   ]
  },
  {
   "cell_type": "code",
   "execution_count": null,
   "metadata": {},
   "outputs": [],
   "source": [
    "# Now plotting\n",
    "plt.figure(figsize=(15,15))\n",
    "plt.scatter(X_mnist_reduced[:, 0], X_mnist_reduced[:, 1], c=y_mnist_train, cmap=\"jet\",s=5)\n",
    "plt.colorbar()\n",
    "plt.title(\"MNIST - 2D PCA\")\n",
    "plt.show()"
   ]
  },
  {
   "cell_type": "code",
   "execution_count": null,
   "metadata": {},
   "outputs": [],
   "source": [
    "# Step 3: Scree Plot\n",
    "pca_scree = None # What goes here???\n",
    "# How do you get variance explained?\n",
    "plt.xlabel(\"Number of Components\")\n",
    "plt.ylabel(\"Cumulative Variance Explained\")\n",
    "plt.title(\"Scree Plot\")\n",
    "plt.show()"
   ]
  },
  {
   "cell_type": "code",
   "execution_count": null,
   "metadata": {},
   "outputs": [],
   "source": [
    "# Step 4: Number of components for 95% variance\n",
    "threshold = 0.95\n",
    "n_components = None # What goes here???\n",
    "print(f\"Number of components for {threshold*100}% variance: {n_components}\")"
   ]
  },
  {
   "cell_type": "code",
   "execution_count": null,
   "metadata": {},
   "outputs": [],
   "source": [
    "def plot_mnist_digit(digit):\n",
    "    \"\"\"Plot a single MNIST digit.\n",
    "\n",
    "    Parameters:\n",
    "    digit (numpy array): A flattened 1D numpy array of length 784.\n",
    "\n",
    "    \"\"\"\n",
    "    # Reshape the flattened digit to 28x28 image\n",
    "    digit_image = digit.reshape(28, 28)\n",
    "    \n",
    "    plt.imshow(digit_image, cmap='binary')\n",
    "    plt.axis(\"off\")\n",
    "    plt.show()\n",
    "\n",
    "plot_mnist_digit(X_mnist_train[0])"
   ]
  },
  {
   "cell_type": "code",
   "execution_count": null,
   "metadata": {},
   "outputs": [],
   "source": [
    "# Use PCA with n_components to transform the above digit.  How does it look?"
   ]
  },
  {
   "cell_type": "code",
   "execution_count": null,
   "metadata": {},
   "outputs": [],
   "source": [
    "# Step 5: k-NN Classification\n",
    "# Without PCA\n",
    "knn = KNeighborsClassifier()\n",
    "knn.fit(X_mnist_train, y_mnist_train)\n",
    "y_pred = knn.predict(X_mnist_test)\n",
    "print(f\"Original Data Accuracy: {accuracy_score(y_mnist_test, y_pred)}\")\n",
    "\n",
    "# With PCA\n",
    "# You have some work to do right here\n",
    "\n",
    "\n",
    "y_pred_pca = None # How do you do this?\n",
    "print(f\"PCA-transformed Data Accuracy: {accuracy_score(y_mnist_test, y_pred_pca)}\")"
   ]
  },
  {
   "cell_type": "markdown",
   "metadata": {},
   "source": [
    "## Exercise 2"
   ]
  },
  {
   "cell_type": "markdown",
   "metadata": {},
   "source": [
    "1. Try using t-SNE to visualize the MNIST data above.  How does it compare to PCA?\n",
    "2. Try using a KNN classifier to predict the data with TSNE.  How does it perform?"
   ]
  },
  {
   "cell_type": "markdown",
   "metadata": {},
   "source": [
    "## Exercise 3"
   ]
  },
  {
   "cell_type": "markdown",
   "metadata": {},
   "source": [
    "Try using UMAP to process the MNIST data.  Visualize the data first, and then calculate accuracy with KNN."
   ]
  },
  {
   "cell_type": "markdown",
   "metadata": {},
   "source": [
    "## Exercise 4"
   ]
  },
  {
   "cell_type": "markdown",
   "metadata": {},
   "source": [
    "Try exploring the impact of dimensionality reduction using the following sample data.\n",
    "\n",
    "1. How does a KNN classifier do as the number of dimensions increases?\n",
    "2. Apply a PCA that captures 90% of the variance. Does it help?\n",
    "3. Does UMAP help?\n",
    "4. What explains the difference? "
   ]
  },
  {
   "cell_type": "code",
   "execution_count": null,
   "metadata": {},
   "outputs": [],
   "source": [
    "# Generate synthetic data\n",
    "np.random.seed(0)\n",
    "n_points = 500\n",
    "\n",
    "# Class 0\n",
    "x0 = np.random.normal(loc=0, scale=10, size=n_points)\n",
    "y0 = np.random.normal(loc=0, scale=10, size=n_points)\n",
    "z0 = np.random.normal(loc=0, scale=1, size=n_points)\n",
    "\n",
    "# Class 1\n",
    "x1 = np.random.normal(loc=0, scale=10, size=n_points)\n",
    "y1 = np.random.normal(loc=0, scale=10, size=n_points)\n",
    "z1 = np.random.normal(loc=2, scale=1, size=n_points)\n",
    "\n",
    "X = np.vstack((np.hstack((x0, x1)), np.hstack((y0, y1)), np.hstack((z0, z1)))).T\n",
    "y = np.hstack((np.zeros(n_points), np.ones(n_points)))\n",
    "\n",
    "\n",
    "\n",
    "# Train KNN on original data\n",
    "knn = KNeighborsClassifier()\n",
    "knn.fit(X, y)\n",
    "y_pred = knn.predict(X)\n",
    "print(f\"Original Data Accuracy: {accuracy_score(y, y_pred)}\")\n",
    "\n",
    "# Create a new figure\n",
    "fig = plt.figure(figsize=(15,15))\n",
    "\n",
    "# Add 3D subplot\n",
    "# The format is (rows, columns, plot_number)\n",
    "ax = fig.add_subplot(111, projection='3d')\n",
    "ax.view_init(elev=0, azim=30)\n",
    "\n",
    "ax.scatter(X[:, 0], X[:, 1], X[:, 2], c=y, cmap='viridis')\n",
    "ax.set_title('Original Data')\n",
    "\n",
    "plt.show()\n"
   ]
  }
 ],
 "metadata": {
  "language_info": {
   "name": "python"
  }
 },
 "nbformat": 4,
 "nbformat_minor": 2
}
