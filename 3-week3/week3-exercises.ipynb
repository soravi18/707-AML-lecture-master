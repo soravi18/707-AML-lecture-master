{
 "cells": [
  {
   "cell_type": "markdown",
   "metadata": {},
   "source": [
    "#### **Exercise 1**\n",
    "\n",
    "Remove the outliers from the `sample_data_with_outliers.csv`!  Plot boxplots of the two features before and after outlier removal.  Try using different methods.  What works the best?"
   ]
  },
  {
   "cell_type": "markdown",
   "metadata": {},
   "source": [
    "#### **Exercise 2**\n",
    "\n",
    "In the following, I've created a sample dataset with an exponential feature and a normal feature. Try using the different scaling methods before running the classifier.  How do your results change:\n",
    "\n",
    "1.  If you scale the exponential feature using a StandardScaler\n",
    "2.  If you scale the exponential feature using a Log transform"
   ]
  },
  {
   "cell_type": "code",
   "execution_count": null,
   "metadata": {},
   "outputs": [],
   "source": [
    "import numpy as np\n",
    "from sklearn.linear_model import LogisticRegression\n",
    "from sklearn.model_selection import train_test_split\n",
    "from sklearn.preprocessing import StandardScaler, PowerTransformer\n",
    "import matplotlib.pyplot as plt\n",
    "\n",
    "# Set random seed for reproducibility\n",
    "np.random.seed(42)\n",
    "\n",
    "# Create synthetic dataset\n",
    "n_samples = 1000\n",
    "\n",
    "# Feature 1: Power law (exponential) distribution\n",
    "X1 = np.random.exponential(scale=5, size=n_samples)\n",
    "\n",
    "# Feature 2: Normal distribution\n",
    "X2 = np.random.normal(loc=50, scale=10, size=n_samples)\n",
    "\n",
    "# Create labels: simple linear relation to X1 and X2\n",
    "y = np.array([1 if x1 + 0.001 * x2 > 1 else 0 for x1, x2 in zip(X1, X2)])\n",
    "flip_indices = np.random.choice(n_samples, size=int(0.1 * n_samples), replace=False)\n",
    "y[flip_indices] = 1 - y[flip_indices]\n",
    "\n",
    "\n",
    "\n",
    "# Combine features into single data array\n",
    "X = np.column_stack((X1, X2))\n",
    "\n",
    "# Split the dataset\n",
    "X_train, X_test, y_train, y_test = train_test_split(X, y, test_size=0.2, random_state=42)\n",
    "\n",
    "# Logistic Regression without scaling\n",
    "lr = LogisticRegression(max_iter=1000)\n",
    "lr.fit(X_train, y_train)\n",
    "print(f\"Logistic Regression without Scaling - Test Accuracy: {lr.score(X_test, y_test):.2f}\")\n",
    "\n",
    "# Plot original features\n",
    "plt.figure(figsize=(12, 6))\n",
    "plt.scatter(X[:, 0], X[:, 1], c=y, cmap='viridis')\n",
    "plt.xlabel('Feature 1 (Power law)')\n",
    "plt.ylabel('Feature 2 (Normal)')\n",
    "plt.show()\n"
   ]
  },
  {
   "cell_type": "markdown",
   "metadata": {},
   "source": [
    "#### **Exercise 3**\n",
    "\n",
    "The **Titanic dataset** (link to the data from [last week](../2-week2//data/titanic.csv)) contains the passenger list for all 768 passengers on the Titanic, as well as who survived. In this exercise, try using different methods for dealing with the nulls in the \"age\" column, and running the same classifier for the different methods (you might try a DecisionTreeClassifier, or a LogisticRegression classifier, or a SGDClassifier).  Which one gives the best result?  Why do you think that is?  Please only use the following columns for modeling: pclass, sex, age, sibsp, parch.  Be sure to try the following methods:\n",
    "\n",
    "1. Fill forward, using 'ffill' in Pandas\n",
    "2. Use a \"mean\" with a SimpleImputer\n",
    "3. Use a \"most_frequent\" with a simple imputer\n",
    "4. Use a KNN imputer from sklearn"
   ]
  },
  {
   "cell_type": "markdown",
   "metadata": {},
   "source": [
    "#### **Exercise 4**\n",
    "\n",
    "Use the one-hot encoding method introduced in [](4-encoding.ipynb) for encoding multiple columns to one-hot encode the following data. "
   ]
  },
  {
   "cell_type": "code",
   "execution_count": null,
   "metadata": {},
   "outputs": [],
   "source": [
    "sample = pd.DataFrame({\n",
    "    'color': ['red', 'blue', 'green', 'red', 'blue', 'green'],\n",
    "    'target': ['apple', 'sky', 'grass', 'sky', 'moon', 'apple'],\n",
    "    'yumminess': [10,2,3,1,6,9]\n",
    "})\n",
    "\n",
    "# Your code here"
   ]
  },
  {
   "cell_type": "markdown",
   "metadata": {},
   "source": [
    "#### **Exercise 5**\n",
    "\n",
    "In along with this notebook, there is a data file called `synthetic_patient_unbalanced.csv` which simulates a dataset of patients who have been examined for cardiovascular disease (CVD).  The data contains the following columns:\n",
    "\n",
    "#### Columns:\n",
    "1. **gender** (Categorical): Gender of the patient. (Male, Female)\n",
    "2. **age** (Numeric): Age of the patient.\n",
    "3. **bmi** (Numeric): Body Mass Index of the patient.\n",
    "4. **systolic_bp** (Numeric): Systolic blood pressure level of the patient.\n",
    "5. **diastolic_bp** (Numeric): Diastolic blood pressure level of the patient.\n",
    "6. **cholesterol_level** (Numeric): Cholesterol level of the patient. \n",
    "7. **exercise_frequency** (Categorical): How often the patient exercises.\n",
    "8. **smoker** (Categorical): Whether the patient is a smoker or not. (0=No, 1=Yes).\n",
    "9. **family_history** (Categorical): Whether the patient has a family history of the disease. (0=No, 1=Yes).\n",
    "10. **diet_quality** (Categorical): Quality of the patient's diet. \n",
    "11. **us_state** (Categorical): The US State where the patient resides.\n",
    "12. **has_disease** (Binary): Whether the patient has the disease or not. (0=No, 1=Yes).\n",
    "\n",
    "#### Task:\n",
    "\n",
    "1. After pre-processing the data, perform an end-to-end analysis.  \n",
    "2. Compare your results with and without re-balancing your classes.\n",
    "3. Evaluate precision, recall, f1-score, and accuracy using 5-fold cross-validation."
   ]
  }
 ],
 "metadata": {
  "kernelspec": {
   "display_name": ".venv",
   "language": "python",
   "name": "python3"
  },
  "language_info": {
   "codemirror_mode": {
    "name": "ipython",
    "version": 3
   },
   "file_extension": ".py",
   "mimetype": "text/x-python",
   "name": "python",
   "nbconvert_exporter": "python",
   "pygments_lexer": "ipython3",
   "version": "3.10.11"
  }
 },
 "nbformat": 4,
 "nbformat_minor": 2
}
