{
 "cells": [
  {
   "cell_type": "markdown",
   "metadata": {},
   "source": [
    "# Cross-validation (cont’d)\n",
    "\n",
    "* __Validation Set for Hyperparameter Tuning__\n",
    "  * Might need to tune hyperparameters\n",
    "  * Using the same cross\\-validation process for both can lead to overfitting\n",
    "  * Approach: reserve a separate “validation set” for hyperparameter tuning in each fold\n",
    "* __Nested Cross\\-Validation__\n",
    "  * __Outer Loop:__ Data is split into training and test sets\\. These test sets serve as the ultimate evaluation of the model\\.\n",
    "  * __Inner Loop__: Within each fold of the outer loop\\, an inner cross\\-validation loop is used on the training data to tune the hyperparameters and select the best model\\.\n",
    "  * __Model Evaluation__ : After hyperparameters are found model is trained on the entire training set of the outer loop and evaluated on the corresponding test set of the outer loop\n",
    "  * __Final Performance__ : The performances from the test sets in the outer loop are averaged to get a final performance metric\\."
   ]
  },
  {
   "cell_type": "code",
   "execution_count": null,
   "metadata": {},
   "outputs": [],
   "source": []
  }
 ],
 "metadata": {
  "language_info": {
   "name": "python"
  }
 },
 "nbformat": 4,
 "nbformat_minor": 2
}
