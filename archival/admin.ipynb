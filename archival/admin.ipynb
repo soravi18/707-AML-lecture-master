{
 "cells": [
  {
   "cell_type": "code",
   "execution_count": 1,
   "metadata": {},
   "outputs": [
    {
     "name": "stdout",
     "output_type": "stream",
     "text": [
      "Converting slides: 100%|████████████████████████| 73/73 [00:01<00:00, 49.32it/s]\n",
      "Process finished with notice:\n",
      "Cannot convert wmf image /Users/jeintron/Dropbox/@TEACHING/POR/IST707/707-lecture-master/3-week3/img/IST707-Week26.wmf in slide 14 to png, this probably won't be displayed correctly.\n",
      "Cannot convert wmf image /Users/jeintron/Dropbox/@TEACHING/POR/IST707/707-lecture-master/3-week3/img/IST707-Week27.wmf in slide 14 to png, this probably won't be displayed correctly.\n",
      "Cannot convert wmf image /Users/jeintron/Dropbox/@TEACHING/POR/IST707/707-lecture-master/3-week3/img/IST707-Week28.wmf in slide 14 to png, this probably won't be displayed correctly.\n",
      "Cannot convert wmf image /Users/jeintron/Dropbox/@TEACHING/POR/IST707/707-lecture-master/3-week3/img/IST707-Week210.wmf in slide 16 to png, this probably won't be displayed correctly.\n",
      "Cannot convert wmf image /Users/jeintron/Dropbox/@TEACHING/POR/IST707/707-lecture-master/3-week3/img/IST707-Week211.wmf in slide 16 to png, this probably won't be displayed correctly.\n",
      "Cannot convert wmf image /Users/jeintron/Dropbox/@TEACHING/POR/IST707/707-lecture-master/3-week3/img/IST707-Week212.wmf in slide 16 to png, this probably won't be displayed correctly.\n",
      "Cannot convert wmf image /Users/jeintron/Dropbox/@TEACHING/POR/IST707/707-lecture-master/3-week3/img/IST707-Week213.wmf in slide 16 to png, this probably won't be displayed correctly.\n",
      "Cannot convert wmf image /Users/jeintron/Dropbox/@TEACHING/POR/IST707/707-lecture-master/3-week3/img/IST707-Week215.wmf in slide 18 to png, this probably won't be displayed correctly.\n",
      "Cannot convert wmf image /Users/jeintron/Dropbox/@TEACHING/POR/IST707/707-lecture-master/3-week3/img/IST707-Week216.wmf in slide 18 to png, this probably won't be displayed correctly.\n",
      "Cannot convert wmf image /Users/jeintron/Dropbox/@TEACHING/POR/IST707/707-lecture-master/3-week3/img/IST707-Week218.wmf in slide 23 to png, this probably won't be displayed correctly.\n",
      "Cannot convert wmf image /Users/jeintron/Dropbox/@TEACHING/POR/IST707/707-lecture-master/3-week3/img/IST707-Week219.wmf in slide 23 to png, this probably won't be displayed correctly.\n",
      "Cannot convert wmf image /Users/jeintron/Dropbox/@TEACHING/POR/IST707/707-lecture-master/3-week3/img/IST707-Week221.wmf in slide 29 to png, this probably won't be displayed correctly.\n",
      "Cannot convert wmf image /Users/jeintron/Dropbox/@TEACHING/POR/IST707/707-lecture-master/3-week3/img/IST707-Week222.wmf in slide 29 to png, this probably won't be displayed correctly.\n",
      "Cannot convert wmf image /Users/jeintron/Dropbox/@TEACHING/POR/IST707/707-lecture-master/3-week3/img/IST707-Week224.wmf in slide 32 to png, this probably won't be displayed correctly.\n",
      "Cannot convert wmf image /Users/jeintron/Dropbox/@TEACHING/POR/IST707/707-lecture-master/3-week3/img/IST707-Week225.wmf in slide 32 to png, this probably won't be displayed correctly.\n",
      "Cannot convert wmf image /Users/jeintron/Dropbox/@TEACHING/POR/IST707/707-lecture-master/3-week3/img/IST707-Week226.wmf in slide 32 to png, this probably won't be displayed correctly.\n",
      "Cannot convert wmf image /Users/jeintron/Dropbox/@TEACHING/POR/IST707/707-lecture-master/3-week3/img/IST707-Week228.wmf in slide 36 to png, this probably won't be displayed correctly.\n",
      "Cannot convert wmf image /Users/jeintron/Dropbox/@TEACHING/POR/IST707/707-lecture-master/3-week3/img/IST707-Week235.wmf in slide 59 to png, this probably won't be displayed correctly.\n",
      "Cannot convert wmf image /Users/jeintron/Dropbox/@TEACHING/POR/IST707/707-lecture-master/3-week3/img/IST707-Week237.wmf in slide 61 to png, this probably won't be displayed correctly.\n",
      "Cannot convert wmf image /Users/jeintron/Dropbox/@TEACHING/POR/IST707/707-lecture-master/3-week3/img/IST707-Week240.wmf in slide 64 to png, this probably won't be displayed correctly.\n",
      "Cannot convert wmf image /Users/jeintron/Dropbox/@TEACHING/POR/IST707/707-lecture-master/3-week3/img/IST707-Week241.wmf in slide 64 to png, this probably won't be displayed correctly.\n",
      "Cannot convert wmf image /Users/jeintron/Dropbox/@TEACHING/POR/IST707/707-lecture-master/3-week3/img/IST707-Week242.wmf in slide 64 to png, this probably won't be displayed correctly.\n",
      "Cannot convert wmf image /Users/jeintron/Dropbox/@TEACHING/POR/IST707/707-lecture-master/3-week3/img/IST707-Week243.wmf in slide 64 to png, this probably won't be displayed correctly.\n"
     ]
    }
   ],
   "source": [
    "!pptx2md IST707-Week2.pptx"
   ]
  }
 ],
 "metadata": {
  "kernelspec": {
   "display_name": ".venv",
   "language": "python",
   "name": "python3"
  },
  "language_info": {
   "codemirror_mode": {
    "name": "ipython",
    "version": 3
   },
   "file_extension": ".py",
   "mimetype": "text/x-python",
   "name": "python",
   "nbconvert_exporter": "python",
   "pygments_lexer": "ipython3",
   "version": "3.10.11"
  }
 },
 "nbformat": 4,
 "nbformat_minor": 2
}
