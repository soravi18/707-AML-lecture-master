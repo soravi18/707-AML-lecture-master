{
 "cells": [
  {
   "cell_type": "markdown",
   "metadata": {},
   "source": [
    "## Exercise 1"
   ]
  },
  {
   "cell_type": "markdown",
   "metadata": {},
   "source": [
    "A useful way to understand gradient descent is to start with a known error function.  Imagine that we have a quadratic error function such as $f(x) = x^2$.  The gradient of this error function is just the first derivative of the function $f(x)$.  Using this, finish the following code to calculate the gradient.  After you've done that, try manipulating the learning rate.  What happens?  How many iterations are needed to reach the minimum?"
   ]
  },
  {
   "cell_type": "code",
   "execution_count": null,
   "metadata": {},
   "outputs": [],
   "source": [
    "import numpy as np\n",
    "import matplotlib.pyplot as plt\n",
    "\n",
    "# Function and Derivative\n",
    "f = lambda x: x ** 2\n",
    "df = #??? What is the derivative?\n",
    "\n",
    "# Gradient Descent\n",
    "def gradient_descent(starting_x, learning_rate, n_iter=10):\n",
    "    x_path = [starting_x] # x_path is an array that stores our successive \"guesses\".  \n",
    "    for _ in range(n_iter):\n",
    "        gradient = df(x_path[-1]) #We are applying the gradient function (dervative) evaluated at our last guess\n",
    "        new_x = # what is our new value?\n",
    "        x_path.append(new_x)\n",
    "    return x_path\n",
    "\n",
    "# Parameters\n",
    "starting_x = 9\n",
    "learning_rate = .1\n",
    "n_iter = 15\n",
    "\n",
    "# Run Gradient Descent\n",
    "x_path = gradient_descent(starting_x, learning_rate, n_iter)\n",
    "\n",
    "# Plotting\n",
    "x = np.linspace(-10, 10, 100)\n",
    "y = f(x)\n",
    "plt.figure(figsize=(10, 5))\n",
    "plt.plot(x, y, label='f(x) = x^2')\n",
    "\n",
    "# Plot the steps with lines connecting them\n",
    "for i in range(1, len(x_path)):\n",
    "    plt.scatter(x_path[i-1:i+1], f(np.array(x_path[i-1:i+1])), color='red')\n",
    "    plt.plot(x_path[i-1:i+1], f(np.array(x_path[i-1:i+1])), color='red')\n",
    "\n",
    "plt.title('Gradient Descent Visualization with Paths')\n",
    "plt.xlabel('x')\n",
    "plt.ylabel('f(x)')\n",
    "plt.legend()\n",
    "plt.grid()\n",
    "plt.show()\n"
   ]
  },
  {
   "cell_type": "markdown",
   "metadata": {},
   "source": [
    "In the following, consider the the function $f(x) = (x-2)^4$.  Complete the code and examine the process of gradient decent.  What do you notice?  How are things different than in the previous example?"
   ]
  },
  {
   "cell_type": "code",
   "execution_count": null,
   "metadata": {},
   "outputs": [],
   "source": [
    "import numpy as np\n",
    "import matplotlib.pyplot as plt\n",
    "\n",
    "# Function and Derivative\n",
    "f = lambda x: (x - 2) ** 4\n",
    "df = lambda x: 3 * (x-2) ** 3 # What's the derivative?\n",
    "\n",
    "# Gradient Descent\n",
    "def gradient_descent(starting_x, learning_rate, n_iter=10):\n",
    "    x_path = [starting_x]\n",
    "    for _ in range(n_iter):\n",
    "        gradient = df(x_path[-1])\n",
    "        new_x = x_path[-1] - gradient * learning_rate\n",
    "        x_path.append(new_x)\n",
    "        \n",
    "    return x_path\n",
    "\n",
    "# Parameters\n",
    "starting_x = 3  \n",
    "learning_rate = .1  \n",
    "n_iter = 100\n",
    "\n",
    "# Run Gradient Descent\n",
    "x_path = gradient_descent(starting_x, learning_rate, n_iter)\n",
    "\n",
    "# Plotting\n",
    "x = np.linspace(1, 3, 1000)  # Range includes the minimum and starting point\n",
    "y = f(x)\n",
    "plt.figure(figsize=(10, 5))\n",
    "plt.plot(x, y, label='f(x) = (x - 2)^4')\n",
    "\n",
    "# Plot the steps with lines connecting them\n",
    "for i in range(1, len(x_path)):\n",
    "    plt.scatter(x_path[i-1:i+1], f(np.array(x_path[i-1:i+1])), color='red')\n",
    "    plt.plot(x_path[i-1:i+1], f(np.array(x_path[i-1:i+1])), color='red')\n",
    "\n",
    "plt.title('Gradient Descent Visualization')\n",
    "plt.xlabel('x')\n",
    "plt.ylabel('f(x)')\n",
    "plt.legend()\n",
    "plt.grid()\n",
    "plt.show()\n"
   ]
  },
  {
   "cell_type": "markdown",
   "metadata": {},
   "source": [
    "## Exercise 1\n",
    "\n",
    "Take a few moments to play with the following code.  Try using the different activation functions (`identity`,`tanh`,`logistic`,`relu`) and solvers (`lbfgs`,`sgd`,`adam`).  Try reconfiguring the size and number of hidden layers.  Try changing the number of classes in your sample data. What do you find? Can you identify a good configuration for 10 classes?\n",
    "\n"
   ]
  },
  {
   "cell_type": "code",
   "execution_count": null,
   "metadata": {},
   "outputs": [],
   "source": [
    "from sklearn.neural_network import MLPClassifier\n",
    "from sklearn.datasets import make_classification\n",
    "from sklearn.model_selection import train_test_split\n",
    "from sklearn.metrics import accuracy_score\n",
    "\n",
    "# Generate a dataset\n",
    "X, y = make_classification(n_samples=1000, n_features=20, n_informative=10, n_classes=4, random_state=1)\n",
    "\n",
    "# Split the data into training and test sets\n",
    "X_train, X_test, y_train, y_test = train_test_split(X, y, stratify=y, random_state=1)\n",
    "\n",
    "# Initialize the MLPClassifier\n",
    "mlp = MLPClassifier(hidden_layer_sizes=(50,), max_iter=1000, alpha=1e-4,\n",
    "                    solver='sgd', activation=\"logistic\", verbose=10, random_state=1,\n",
    "                    learning_rate_init=.1)\n",
    "\n",
    "# Train the MLP\n",
    "mlp.fit(X_train, y_train)\n",
    "\n",
    "# Predictions\n",
    "y_pred = mlp.predict(X_test)\n",
    "\n",
    "# Evaluation\n",
    "print(f\"Accuracy: {accuracy_score(y_test, y_pred):.2f}\")"
   ]
  },
  {
   "cell_type": "markdown",
   "metadata": {},
   "source": [
    "## Exercise 2\n",
    "\n",
    "Check out the [Tensorflow Playground](https://playground.tensorflow.org/#activation=tanh&batchSize=10&dataset=circle&regDataset=reg-plane&learningRate=0.03&regularizationRate=0&noise=0&networkShape=4,2&seed=0.80814&showTestData=false&discretize=false&percTrainData=50&x=true&y=true&xTimesY=false&xSquared=false&ySquared=false&cosX=false&sinX=false&cosY=false&sinY=false&collectStats=false&problem=classification&initZero=false&hideText=false). Explore the following:\n",
    "\n",
    "   - The patterns learned by a neural net. Try training the default neural network by clicking the Run button (top left). Notice how it quickly finds a good solution for the classification task. The neurons in the first hidden layer have learned simple patterns, while the neurons in the second hidden layer have learned to combine the simple patterns of the first hidden layer into more complex patterns. In general, the more layers there are, the more complex the patterns can be.\n",
    "   \n",
    "   - Activation functions. Try replacing the tanh activation function with a ReLU activation function, and train the network again. Notice that it finds a solution even faster, but this time the boundaries are linear. This is due to the shape of the ReLU function.\n",
    "   - The risk of local minima. Modify the network architecture to have just one hidden layer with three neurons. Train it multiple times (to reset the network weights, click the Reset button next to the Play button). Notice that the training time varies a lot, and sometimes it even gets stuck in a local minimum.\n",
    "   - What happens when neural nets are too small? Remove one neuron to keep just two. Notice that the neural network is now incapable of finding a good solution, even if you try multiple times. The model has too few parameters and systematically underfits the training set.\n",
    "   - What happens when neural nets are large enough? Set the number of neurons to eight, and train the network several times. Notice that it is now consistently fast and never gets stuck. This highlights an important finding in neural network theory: large neural networks rarely get stuck in local minima, and even when they do these local optima are often almost as good as the global optimum. However, they can still get stuck on long plateaus for a long time.\n",
    "   - The risk of vanishing gradients in deep networks. Select the spiral dataset (the bottom-right dataset under “DATA”), and change the network architecture to have four hidden layers with eight neurons each. Notice that training takes much longer and often gets stuck on plateaus for long periods of time. Also notice that the neurons in the highest layers (on the right) tend to evolve faster than the neurons in the lowest layers (on the left). This problem, called the vanishing gradients problem, can be alleviated with better weight initialization and other techniques, better optimizers (such as AdaGrad or Adam), or batch normalization. (discussed in Chapter 11 in the book)."
   ]
  },
  {
   "cell_type": "markdown",
   "metadata": {},
   "source": [
    "## Exercise 3 \n",
    "\n",
    "Try building a MLP in Keras to fit the MNIST handwriting data using the Sequential API. Here are some tips:\n",
    "\n",
    "- Make sure to flatten your images with a \"Flatten\" layer\n",
    "- Add one or two Dense layers with ReLU activation\n",
    "- Finish with a dense output layer with 10 neurons (one for each digit)\n",
    "- Compile the model with the `adam` optimizer, `sparse_categorical_crossentropy` loss, and `accuracy` metric\n",
    "- Use a validation_split parameter with 20 percent of your data for validation during training\n",
    "- Train with a reasonable number of epochs (e.g. 5-10) and evaluate your performance on the test set\n",
    "- Explore with different numbers of neurons, layers, and epochs!\n"
   ]
  },
  {
   "cell_type": "code",
   "execution_count": null,
   "metadata": {},
   "outputs": [],
   "source": [
    "#Just to get you started, here's some data!\n",
    "from tensorflow.keras.datasets import mnist\n",
    "(x_train, y_train), (x_test, y_test) = mnist.load_data()\n",
    "\n",
    "# Tensorflows data is from 0-255, so here we just normalize to the 0-1 range:\n",
    "x_train, x_test = x_train / 255.0, x_test / 255.0"
   ]
  }
 ],
 "metadata": {
  "language_info": {
   "name": "python"
  }
 },
 "nbformat": 4,
 "nbformat_minor": 2
}
